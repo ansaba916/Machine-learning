{
  "nbformat": 4,
  "nbformat_minor": 0,
  "metadata": {
    "colab": {
      "provenance": []
    },
    "kernelspec": {
      "name": "python3",
      "display_name": "Python 3"
    },
    "language_info": {
      "name": "python"
    }
  },
  "cells": [
    {
      "cell_type": "code",
      "execution_count": null,
      "metadata": {
        "id": "4QyiXU15CHNg"
      },
      "outputs": [],
      "source": [
        "import pandas as pd\n",
        "import numpy as np"
      ]
    },
    {
      "cell_type": "code",
      "source": [
        "data=pd.read_csv(\"/content/drive/MyDrive/seattle-weather.csv\")\n",
        "data"
      ],
      "metadata": {
        "colab": {
          "base_uri": "https://localhost:8080/",
          "height": 424
        },
        "id": "OU-K8JsbCjKX",
        "outputId": "8fa7b349-355e-417e-a95a-52ba0864c47f"
      },
      "execution_count": null,
      "outputs": [
        {
          "output_type": "execute_result",
          "data": {
            "text/plain": [
              "            date  precipitation  temp_max  temp_min  wind  weather\n",
              "0     2012-01-01            0.0      12.8       5.0   4.7  drizzle\n",
              "1     2012-01-02           10.9      10.6       2.8   4.5     rain\n",
              "2     2012-01-03            0.8      11.7       7.2   2.3     rain\n",
              "3     2012-01-04           20.3      12.2       5.6   4.7     rain\n",
              "4     2012-01-05            1.3       8.9       2.8   6.1     rain\n",
              "...          ...            ...       ...       ...   ...      ...\n",
              "1456  2015-12-27            8.6       4.4       1.7   2.9     rain\n",
              "1457  2015-12-28            1.5       5.0       1.7   1.3     rain\n",
              "1458  2015-12-29            0.0       7.2       0.6   2.6      fog\n",
              "1459  2015-12-30            0.0       5.6      -1.0   3.4      sun\n",
              "1460  2015-12-31            0.0       5.6      -2.1   3.5      sun\n",
              "\n",
              "[1461 rows x 6 columns]"
            ],
            "text/html": [
              "\n",
              "  <div id=\"df-286273e9-7503-4543-88eb-0fd8136c3c84\">\n",
              "    <div class=\"colab-df-container\">\n",
              "      <div>\n",
              "<style scoped>\n",
              "    .dataframe tbody tr th:only-of-type {\n",
              "        vertical-align: middle;\n",
              "    }\n",
              "\n",
              "    .dataframe tbody tr th {\n",
              "        vertical-align: top;\n",
              "    }\n",
              "\n",
              "    .dataframe thead th {\n",
              "        text-align: right;\n",
              "    }\n",
              "</style>\n",
              "<table border=\"1\" class=\"dataframe\">\n",
              "  <thead>\n",
              "    <tr style=\"text-align: right;\">\n",
              "      <th></th>\n",
              "      <th>date</th>\n",
              "      <th>precipitation</th>\n",
              "      <th>temp_max</th>\n",
              "      <th>temp_min</th>\n",
              "      <th>wind</th>\n",
              "      <th>weather</th>\n",
              "    </tr>\n",
              "  </thead>\n",
              "  <tbody>\n",
              "    <tr>\n",
              "      <th>0</th>\n",
              "      <td>2012-01-01</td>\n",
              "      <td>0.0</td>\n",
              "      <td>12.8</td>\n",
              "      <td>5.0</td>\n",
              "      <td>4.7</td>\n",
              "      <td>drizzle</td>\n",
              "    </tr>\n",
              "    <tr>\n",
              "      <th>1</th>\n",
              "      <td>2012-01-02</td>\n",
              "      <td>10.9</td>\n",
              "      <td>10.6</td>\n",
              "      <td>2.8</td>\n",
              "      <td>4.5</td>\n",
              "      <td>rain</td>\n",
              "    </tr>\n",
              "    <tr>\n",
              "      <th>2</th>\n",
              "      <td>2012-01-03</td>\n",
              "      <td>0.8</td>\n",
              "      <td>11.7</td>\n",
              "      <td>7.2</td>\n",
              "      <td>2.3</td>\n",
              "      <td>rain</td>\n",
              "    </tr>\n",
              "    <tr>\n",
              "      <th>3</th>\n",
              "      <td>2012-01-04</td>\n",
              "      <td>20.3</td>\n",
              "      <td>12.2</td>\n",
              "      <td>5.6</td>\n",
              "      <td>4.7</td>\n",
              "      <td>rain</td>\n",
              "    </tr>\n",
              "    <tr>\n",
              "      <th>4</th>\n",
              "      <td>2012-01-05</td>\n",
              "      <td>1.3</td>\n",
              "      <td>8.9</td>\n",
              "      <td>2.8</td>\n",
              "      <td>6.1</td>\n",
              "      <td>rain</td>\n",
              "    </tr>\n",
              "    <tr>\n",
              "      <th>...</th>\n",
              "      <td>...</td>\n",
              "      <td>...</td>\n",
              "      <td>...</td>\n",
              "      <td>...</td>\n",
              "      <td>...</td>\n",
              "      <td>...</td>\n",
              "    </tr>\n",
              "    <tr>\n",
              "      <th>1456</th>\n",
              "      <td>2015-12-27</td>\n",
              "      <td>8.6</td>\n",
              "      <td>4.4</td>\n",
              "      <td>1.7</td>\n",
              "      <td>2.9</td>\n",
              "      <td>rain</td>\n",
              "    </tr>\n",
              "    <tr>\n",
              "      <th>1457</th>\n",
              "      <td>2015-12-28</td>\n",
              "      <td>1.5</td>\n",
              "      <td>5.0</td>\n",
              "      <td>1.7</td>\n",
              "      <td>1.3</td>\n",
              "      <td>rain</td>\n",
              "    </tr>\n",
              "    <tr>\n",
              "      <th>1458</th>\n",
              "      <td>2015-12-29</td>\n",
              "      <td>0.0</td>\n",
              "      <td>7.2</td>\n",
              "      <td>0.6</td>\n",
              "      <td>2.6</td>\n",
              "      <td>fog</td>\n",
              "    </tr>\n",
              "    <tr>\n",
              "      <th>1459</th>\n",
              "      <td>2015-12-30</td>\n",
              "      <td>0.0</td>\n",
              "      <td>5.6</td>\n",
              "      <td>-1.0</td>\n",
              "      <td>3.4</td>\n",
              "      <td>sun</td>\n",
              "    </tr>\n",
              "    <tr>\n",
              "      <th>1460</th>\n",
              "      <td>2015-12-31</td>\n",
              "      <td>0.0</td>\n",
              "      <td>5.6</td>\n",
              "      <td>-2.1</td>\n",
              "      <td>3.5</td>\n",
              "      <td>sun</td>\n",
              "    </tr>\n",
              "  </tbody>\n",
              "</table>\n",
              "<p>1461 rows × 6 columns</p>\n",
              "</div>\n",
              "      <button class=\"colab-df-convert\" onclick=\"convertToInteractive('df-286273e9-7503-4543-88eb-0fd8136c3c84')\"\n",
              "              title=\"Convert this dataframe to an interactive table.\"\n",
              "              style=\"display:none;\">\n",
              "        \n",
              "  <svg xmlns=\"http://www.w3.org/2000/svg\" height=\"24px\"viewBox=\"0 0 24 24\"\n",
              "       width=\"24px\">\n",
              "    <path d=\"M0 0h24v24H0V0z\" fill=\"none\"/>\n",
              "    <path d=\"M18.56 5.44l.94 2.06.94-2.06 2.06-.94-2.06-.94-.94-2.06-.94 2.06-2.06.94zm-11 1L8.5 8.5l.94-2.06 2.06-.94-2.06-.94L8.5 2.5l-.94 2.06-2.06.94zm10 10l.94 2.06.94-2.06 2.06-.94-2.06-.94-.94-2.06-.94 2.06-2.06.94z\"/><path d=\"M17.41 7.96l-1.37-1.37c-.4-.4-.92-.59-1.43-.59-.52 0-1.04.2-1.43.59L10.3 9.45l-7.72 7.72c-.78.78-.78 2.05 0 2.83L4 21.41c.39.39.9.59 1.41.59.51 0 1.02-.2 1.41-.59l7.78-7.78 2.81-2.81c.8-.78.8-2.07 0-2.86zM5.41 20L4 18.59l7.72-7.72 1.47 1.35L5.41 20z\"/>\n",
              "  </svg>\n",
              "      </button>\n",
              "      \n",
              "  <style>\n",
              "    .colab-df-container {\n",
              "      display:flex;\n",
              "      flex-wrap:wrap;\n",
              "      gap: 12px;\n",
              "    }\n",
              "\n",
              "    .colab-df-convert {\n",
              "      background-color: #E8F0FE;\n",
              "      border: none;\n",
              "      border-radius: 50%;\n",
              "      cursor: pointer;\n",
              "      display: none;\n",
              "      fill: #1967D2;\n",
              "      height: 32px;\n",
              "      padding: 0 0 0 0;\n",
              "      width: 32px;\n",
              "    }\n",
              "\n",
              "    .colab-df-convert:hover {\n",
              "      background-color: #E2EBFA;\n",
              "      box-shadow: 0px 1px 2px rgba(60, 64, 67, 0.3), 0px 1px 3px 1px rgba(60, 64, 67, 0.15);\n",
              "      fill: #174EA6;\n",
              "    }\n",
              "\n",
              "    [theme=dark] .colab-df-convert {\n",
              "      background-color: #3B4455;\n",
              "      fill: #D2E3FC;\n",
              "    }\n",
              "\n",
              "    [theme=dark] .colab-df-convert:hover {\n",
              "      background-color: #434B5C;\n",
              "      box-shadow: 0px 1px 3px 1px rgba(0, 0, 0, 0.15);\n",
              "      filter: drop-shadow(0px 1px 2px rgba(0, 0, 0, 0.3));\n",
              "      fill: #FFFFFF;\n",
              "    }\n",
              "  </style>\n",
              "\n",
              "      <script>\n",
              "        const buttonEl =\n",
              "          document.querySelector('#df-286273e9-7503-4543-88eb-0fd8136c3c84 button.colab-df-convert');\n",
              "        buttonEl.style.display =\n",
              "          google.colab.kernel.accessAllowed ? 'block' : 'none';\n",
              "\n",
              "        async function convertToInteractive(key) {\n",
              "          const element = document.querySelector('#df-286273e9-7503-4543-88eb-0fd8136c3c84');\n",
              "          const dataTable =\n",
              "            await google.colab.kernel.invokeFunction('convertToInteractive',\n",
              "                                                     [key], {});\n",
              "          if (!dataTable) return;\n",
              "\n",
              "          const docLinkHtml = 'Like what you see? Visit the ' +\n",
              "            '<a target=\"_blank\" href=https://colab.research.google.com/notebooks/data_table.ipynb>data table notebook</a>'\n",
              "            + ' to learn more about interactive tables.';\n",
              "          element.innerHTML = '';\n",
              "          dataTable['output_type'] = 'display_data';\n",
              "          await google.colab.output.renderOutput(dataTable, element);\n",
              "          const docLink = document.createElement('div');\n",
              "          docLink.innerHTML = docLinkHtml;\n",
              "          element.appendChild(docLink);\n",
              "        }\n",
              "      </script>\n",
              "    </div>\n",
              "  </div>\n",
              "  "
            ]
          },
          "metadata": {},
          "execution_count": 3
        }
      ]
    },
    {
      "cell_type": "code",
      "source": [
        "data.isnull().sum()"
      ],
      "metadata": {
        "colab": {
          "base_uri": "https://localhost:8080/"
        },
        "id": "LFnGsFdRDX0W",
        "outputId": "2f7b9022-4426-4f2b-8072-4a05cc515eaf"
      },
      "execution_count": null,
      "outputs": [
        {
          "output_type": "execute_result",
          "data": {
            "text/plain": [
              "date             0\n",
              "precipitation    0\n",
              "temp_max         0\n",
              "temp_min         0\n",
              "wind             0\n",
              "weather          0\n",
              "dtype: int64"
            ]
          },
          "metadata": {},
          "execution_count": 4
        }
      ]
    },
    {
      "cell_type": "code",
      "source": [
        "type(data)"
      ],
      "metadata": {
        "colab": {
          "base_uri": "https://localhost:8080/"
        },
        "id": "8H8QIYjNDfbe",
        "outputId": "5ffce043-571d-4f12-c731-5f1a38c3539a"
      },
      "execution_count": null,
      "outputs": [
        {
          "output_type": "execute_result",
          "data": {
            "text/plain": [
              "pandas.core.frame.DataFrame"
            ]
          },
          "metadata": {},
          "execution_count": 5
        }
      ]
    },
    {
      "cell_type": "code",
      "source": [
        "x=data.drop([\"date\"],axis=1)\n",
        "x"
      ],
      "metadata": {
        "colab": {
          "base_uri": "https://localhost:8080/",
          "height": 424
        },
        "id": "z5axRwfjDsBB",
        "outputId": "2ee33428-fd69-4f98-f270-1f3ae7419b29"
      },
      "execution_count": null,
      "outputs": [
        {
          "output_type": "execute_result",
          "data": {
            "text/plain": [
              "      precipitation  temp_max  temp_min  wind  weather\n",
              "0               0.0      12.8       5.0   4.7  drizzle\n",
              "1              10.9      10.6       2.8   4.5     rain\n",
              "2               0.8      11.7       7.2   2.3     rain\n",
              "3              20.3      12.2       5.6   4.7     rain\n",
              "4               1.3       8.9       2.8   6.1     rain\n",
              "...             ...       ...       ...   ...      ...\n",
              "1456            8.6       4.4       1.7   2.9     rain\n",
              "1457            1.5       5.0       1.7   1.3     rain\n",
              "1458            0.0       7.2       0.6   2.6      fog\n",
              "1459            0.0       5.6      -1.0   3.4      sun\n",
              "1460            0.0       5.6      -2.1   3.5      sun\n",
              "\n",
              "[1461 rows x 5 columns]"
            ],
            "text/html": [
              "\n",
              "  <div id=\"df-49fcf704-5014-4a03-b9e7-b46b0735b2cf\">\n",
              "    <div class=\"colab-df-container\">\n",
              "      <div>\n",
              "<style scoped>\n",
              "    .dataframe tbody tr th:only-of-type {\n",
              "        vertical-align: middle;\n",
              "    }\n",
              "\n",
              "    .dataframe tbody tr th {\n",
              "        vertical-align: top;\n",
              "    }\n",
              "\n",
              "    .dataframe thead th {\n",
              "        text-align: right;\n",
              "    }\n",
              "</style>\n",
              "<table border=\"1\" class=\"dataframe\">\n",
              "  <thead>\n",
              "    <tr style=\"text-align: right;\">\n",
              "      <th></th>\n",
              "      <th>precipitation</th>\n",
              "      <th>temp_max</th>\n",
              "      <th>temp_min</th>\n",
              "      <th>wind</th>\n",
              "      <th>weather</th>\n",
              "    </tr>\n",
              "  </thead>\n",
              "  <tbody>\n",
              "    <tr>\n",
              "      <th>0</th>\n",
              "      <td>0.0</td>\n",
              "      <td>12.8</td>\n",
              "      <td>5.0</td>\n",
              "      <td>4.7</td>\n",
              "      <td>drizzle</td>\n",
              "    </tr>\n",
              "    <tr>\n",
              "      <th>1</th>\n",
              "      <td>10.9</td>\n",
              "      <td>10.6</td>\n",
              "      <td>2.8</td>\n",
              "      <td>4.5</td>\n",
              "      <td>rain</td>\n",
              "    </tr>\n",
              "    <tr>\n",
              "      <th>2</th>\n",
              "      <td>0.8</td>\n",
              "      <td>11.7</td>\n",
              "      <td>7.2</td>\n",
              "      <td>2.3</td>\n",
              "      <td>rain</td>\n",
              "    </tr>\n",
              "    <tr>\n",
              "      <th>3</th>\n",
              "      <td>20.3</td>\n",
              "      <td>12.2</td>\n",
              "      <td>5.6</td>\n",
              "      <td>4.7</td>\n",
              "      <td>rain</td>\n",
              "    </tr>\n",
              "    <tr>\n",
              "      <th>4</th>\n",
              "      <td>1.3</td>\n",
              "      <td>8.9</td>\n",
              "      <td>2.8</td>\n",
              "      <td>6.1</td>\n",
              "      <td>rain</td>\n",
              "    </tr>\n",
              "    <tr>\n",
              "      <th>...</th>\n",
              "      <td>...</td>\n",
              "      <td>...</td>\n",
              "      <td>...</td>\n",
              "      <td>...</td>\n",
              "      <td>...</td>\n",
              "    </tr>\n",
              "    <tr>\n",
              "      <th>1456</th>\n",
              "      <td>8.6</td>\n",
              "      <td>4.4</td>\n",
              "      <td>1.7</td>\n",
              "      <td>2.9</td>\n",
              "      <td>rain</td>\n",
              "    </tr>\n",
              "    <tr>\n",
              "      <th>1457</th>\n",
              "      <td>1.5</td>\n",
              "      <td>5.0</td>\n",
              "      <td>1.7</td>\n",
              "      <td>1.3</td>\n",
              "      <td>rain</td>\n",
              "    </tr>\n",
              "    <tr>\n",
              "      <th>1458</th>\n",
              "      <td>0.0</td>\n",
              "      <td>7.2</td>\n",
              "      <td>0.6</td>\n",
              "      <td>2.6</td>\n",
              "      <td>fog</td>\n",
              "    </tr>\n",
              "    <tr>\n",
              "      <th>1459</th>\n",
              "      <td>0.0</td>\n",
              "      <td>5.6</td>\n",
              "      <td>-1.0</td>\n",
              "      <td>3.4</td>\n",
              "      <td>sun</td>\n",
              "    </tr>\n",
              "    <tr>\n",
              "      <th>1460</th>\n",
              "      <td>0.0</td>\n",
              "      <td>5.6</td>\n",
              "      <td>-2.1</td>\n",
              "      <td>3.5</td>\n",
              "      <td>sun</td>\n",
              "    </tr>\n",
              "  </tbody>\n",
              "</table>\n",
              "<p>1461 rows × 5 columns</p>\n",
              "</div>\n",
              "      <button class=\"colab-df-convert\" onclick=\"convertToInteractive('df-49fcf704-5014-4a03-b9e7-b46b0735b2cf')\"\n",
              "              title=\"Convert this dataframe to an interactive table.\"\n",
              "              style=\"display:none;\">\n",
              "        \n",
              "  <svg xmlns=\"http://www.w3.org/2000/svg\" height=\"24px\"viewBox=\"0 0 24 24\"\n",
              "       width=\"24px\">\n",
              "    <path d=\"M0 0h24v24H0V0z\" fill=\"none\"/>\n",
              "    <path d=\"M18.56 5.44l.94 2.06.94-2.06 2.06-.94-2.06-.94-.94-2.06-.94 2.06-2.06.94zm-11 1L8.5 8.5l.94-2.06 2.06-.94-2.06-.94L8.5 2.5l-.94 2.06-2.06.94zm10 10l.94 2.06.94-2.06 2.06-.94-2.06-.94-.94-2.06-.94 2.06-2.06.94z\"/><path d=\"M17.41 7.96l-1.37-1.37c-.4-.4-.92-.59-1.43-.59-.52 0-1.04.2-1.43.59L10.3 9.45l-7.72 7.72c-.78.78-.78 2.05 0 2.83L4 21.41c.39.39.9.59 1.41.59.51 0 1.02-.2 1.41-.59l7.78-7.78 2.81-2.81c.8-.78.8-2.07 0-2.86zM5.41 20L4 18.59l7.72-7.72 1.47 1.35L5.41 20z\"/>\n",
              "  </svg>\n",
              "      </button>\n",
              "      \n",
              "  <style>\n",
              "    .colab-df-container {\n",
              "      display:flex;\n",
              "      flex-wrap:wrap;\n",
              "      gap: 12px;\n",
              "    }\n",
              "\n",
              "    .colab-df-convert {\n",
              "      background-color: #E8F0FE;\n",
              "      border: none;\n",
              "      border-radius: 50%;\n",
              "      cursor: pointer;\n",
              "      display: none;\n",
              "      fill: #1967D2;\n",
              "      height: 32px;\n",
              "      padding: 0 0 0 0;\n",
              "      width: 32px;\n",
              "    }\n",
              "\n",
              "    .colab-df-convert:hover {\n",
              "      background-color: #E2EBFA;\n",
              "      box-shadow: 0px 1px 2px rgba(60, 64, 67, 0.3), 0px 1px 3px 1px rgba(60, 64, 67, 0.15);\n",
              "      fill: #174EA6;\n",
              "    }\n",
              "\n",
              "    [theme=dark] .colab-df-convert {\n",
              "      background-color: #3B4455;\n",
              "      fill: #D2E3FC;\n",
              "    }\n",
              "\n",
              "    [theme=dark] .colab-df-convert:hover {\n",
              "      background-color: #434B5C;\n",
              "      box-shadow: 0px 1px 3px 1px rgba(0, 0, 0, 0.15);\n",
              "      filter: drop-shadow(0px 1px 2px rgba(0, 0, 0, 0.3));\n",
              "      fill: #FFFFFF;\n",
              "    }\n",
              "  </style>\n",
              "\n",
              "      <script>\n",
              "        const buttonEl =\n",
              "          document.querySelector('#df-49fcf704-5014-4a03-b9e7-b46b0735b2cf button.colab-df-convert');\n",
              "        buttonEl.style.display =\n",
              "          google.colab.kernel.accessAllowed ? 'block' : 'none';\n",
              "\n",
              "        async function convertToInteractive(key) {\n",
              "          const element = document.querySelector('#df-49fcf704-5014-4a03-b9e7-b46b0735b2cf');\n",
              "          const dataTable =\n",
              "            await google.colab.kernel.invokeFunction('convertToInteractive',\n",
              "                                                     [key], {});\n",
              "          if (!dataTable) return;\n",
              "\n",
              "          const docLinkHtml = 'Like what you see? Visit the ' +\n",
              "            '<a target=\"_blank\" href=https://colab.research.google.com/notebooks/data_table.ipynb>data table notebook</a>'\n",
              "            + ' to learn more about interactive tables.';\n",
              "          element.innerHTML = '';\n",
              "          dataTable['output_type'] = 'display_data';\n",
              "          await google.colab.output.renderOutput(dataTable, element);\n",
              "          const docLink = document.createElement('div');\n",
              "          docLink.innerHTML = docLinkHtml;\n",
              "          element.appendChild(docLink);\n",
              "        }\n",
              "      </script>\n",
              "    </div>\n",
              "  </div>\n",
              "  "
            ]
          },
          "metadata": {},
          "execution_count": 6
        }
      ]
    },
    {
      "cell_type": "code",
      "source": [
        "from sklearn import preprocessing\n",
        "label_encoder=preprocessing.LabelEncoder()"
      ],
      "metadata": {
        "id": "KRR74wsCD0KG"
      },
      "execution_count": null,
      "outputs": []
    },
    {
      "cell_type": "code",
      "source": [
        "x[\"weather\"]=label_encoder.fit_transform(x[\"weather\"])"
      ],
      "metadata": {
        "id": "Sy49hYjCEh0U"
      },
      "execution_count": null,
      "outputs": []
    },
    {
      "cell_type": "code",
      "source": [
        "x"
      ],
      "metadata": {
        "colab": {
          "base_uri": "https://localhost:8080/",
          "height": 424
        },
        "id": "CHTMzuevEx-W",
        "outputId": "4d94a16e-138f-49e4-ce27-718c8d3bb6ec"
      },
      "execution_count": null,
      "outputs": [
        {
          "output_type": "execute_result",
          "data": {
            "text/plain": [
              "      precipitation  temp_max  temp_min  wind  weather\n",
              "0               0.0      12.8       5.0   4.7        0\n",
              "1              10.9      10.6       2.8   4.5        2\n",
              "2               0.8      11.7       7.2   2.3        2\n",
              "3              20.3      12.2       5.6   4.7        2\n",
              "4               1.3       8.9       2.8   6.1        2\n",
              "...             ...       ...       ...   ...      ...\n",
              "1456            8.6       4.4       1.7   2.9        2\n",
              "1457            1.5       5.0       1.7   1.3        2\n",
              "1458            0.0       7.2       0.6   2.6        1\n",
              "1459            0.0       5.6      -1.0   3.4        4\n",
              "1460            0.0       5.6      -2.1   3.5        4\n",
              "\n",
              "[1461 rows x 5 columns]"
            ],
            "text/html": [
              "\n",
              "  <div id=\"df-91459691-01ee-488c-935b-7766879b0624\">\n",
              "    <div class=\"colab-df-container\">\n",
              "      <div>\n",
              "<style scoped>\n",
              "    .dataframe tbody tr th:only-of-type {\n",
              "        vertical-align: middle;\n",
              "    }\n",
              "\n",
              "    .dataframe tbody tr th {\n",
              "        vertical-align: top;\n",
              "    }\n",
              "\n",
              "    .dataframe thead th {\n",
              "        text-align: right;\n",
              "    }\n",
              "</style>\n",
              "<table border=\"1\" class=\"dataframe\">\n",
              "  <thead>\n",
              "    <tr style=\"text-align: right;\">\n",
              "      <th></th>\n",
              "      <th>precipitation</th>\n",
              "      <th>temp_max</th>\n",
              "      <th>temp_min</th>\n",
              "      <th>wind</th>\n",
              "      <th>weather</th>\n",
              "    </tr>\n",
              "  </thead>\n",
              "  <tbody>\n",
              "    <tr>\n",
              "      <th>0</th>\n",
              "      <td>0.0</td>\n",
              "      <td>12.8</td>\n",
              "      <td>5.0</td>\n",
              "      <td>4.7</td>\n",
              "      <td>0</td>\n",
              "    </tr>\n",
              "    <tr>\n",
              "      <th>1</th>\n",
              "      <td>10.9</td>\n",
              "      <td>10.6</td>\n",
              "      <td>2.8</td>\n",
              "      <td>4.5</td>\n",
              "      <td>2</td>\n",
              "    </tr>\n",
              "    <tr>\n",
              "      <th>2</th>\n",
              "      <td>0.8</td>\n",
              "      <td>11.7</td>\n",
              "      <td>7.2</td>\n",
              "      <td>2.3</td>\n",
              "      <td>2</td>\n",
              "    </tr>\n",
              "    <tr>\n",
              "      <th>3</th>\n",
              "      <td>20.3</td>\n",
              "      <td>12.2</td>\n",
              "      <td>5.6</td>\n",
              "      <td>4.7</td>\n",
              "      <td>2</td>\n",
              "    </tr>\n",
              "    <tr>\n",
              "      <th>4</th>\n",
              "      <td>1.3</td>\n",
              "      <td>8.9</td>\n",
              "      <td>2.8</td>\n",
              "      <td>6.1</td>\n",
              "      <td>2</td>\n",
              "    </tr>\n",
              "    <tr>\n",
              "      <th>...</th>\n",
              "      <td>...</td>\n",
              "      <td>...</td>\n",
              "      <td>...</td>\n",
              "      <td>...</td>\n",
              "      <td>...</td>\n",
              "    </tr>\n",
              "    <tr>\n",
              "      <th>1456</th>\n",
              "      <td>8.6</td>\n",
              "      <td>4.4</td>\n",
              "      <td>1.7</td>\n",
              "      <td>2.9</td>\n",
              "      <td>2</td>\n",
              "    </tr>\n",
              "    <tr>\n",
              "      <th>1457</th>\n",
              "      <td>1.5</td>\n",
              "      <td>5.0</td>\n",
              "      <td>1.7</td>\n",
              "      <td>1.3</td>\n",
              "      <td>2</td>\n",
              "    </tr>\n",
              "    <tr>\n",
              "      <th>1458</th>\n",
              "      <td>0.0</td>\n",
              "      <td>7.2</td>\n",
              "      <td>0.6</td>\n",
              "      <td>2.6</td>\n",
              "      <td>1</td>\n",
              "    </tr>\n",
              "    <tr>\n",
              "      <th>1459</th>\n",
              "      <td>0.0</td>\n",
              "      <td>5.6</td>\n",
              "      <td>-1.0</td>\n",
              "      <td>3.4</td>\n",
              "      <td>4</td>\n",
              "    </tr>\n",
              "    <tr>\n",
              "      <th>1460</th>\n",
              "      <td>0.0</td>\n",
              "      <td>5.6</td>\n",
              "      <td>-2.1</td>\n",
              "      <td>3.5</td>\n",
              "      <td>4</td>\n",
              "    </tr>\n",
              "  </tbody>\n",
              "</table>\n",
              "<p>1461 rows × 5 columns</p>\n",
              "</div>\n",
              "      <button class=\"colab-df-convert\" onclick=\"convertToInteractive('df-91459691-01ee-488c-935b-7766879b0624')\"\n",
              "              title=\"Convert this dataframe to an interactive table.\"\n",
              "              style=\"display:none;\">\n",
              "        \n",
              "  <svg xmlns=\"http://www.w3.org/2000/svg\" height=\"24px\"viewBox=\"0 0 24 24\"\n",
              "       width=\"24px\">\n",
              "    <path d=\"M0 0h24v24H0V0z\" fill=\"none\"/>\n",
              "    <path d=\"M18.56 5.44l.94 2.06.94-2.06 2.06-.94-2.06-.94-.94-2.06-.94 2.06-2.06.94zm-11 1L8.5 8.5l.94-2.06 2.06-.94-2.06-.94L8.5 2.5l-.94 2.06-2.06.94zm10 10l.94 2.06.94-2.06 2.06-.94-2.06-.94-.94-2.06-.94 2.06-2.06.94z\"/><path d=\"M17.41 7.96l-1.37-1.37c-.4-.4-.92-.59-1.43-.59-.52 0-1.04.2-1.43.59L10.3 9.45l-7.72 7.72c-.78.78-.78 2.05 0 2.83L4 21.41c.39.39.9.59 1.41.59.51 0 1.02-.2 1.41-.59l7.78-7.78 2.81-2.81c.8-.78.8-2.07 0-2.86zM5.41 20L4 18.59l7.72-7.72 1.47 1.35L5.41 20z\"/>\n",
              "  </svg>\n",
              "      </button>\n",
              "      \n",
              "  <style>\n",
              "    .colab-df-container {\n",
              "      display:flex;\n",
              "      flex-wrap:wrap;\n",
              "      gap: 12px;\n",
              "    }\n",
              "\n",
              "    .colab-df-convert {\n",
              "      background-color: #E8F0FE;\n",
              "      border: none;\n",
              "      border-radius: 50%;\n",
              "      cursor: pointer;\n",
              "      display: none;\n",
              "      fill: #1967D2;\n",
              "      height: 32px;\n",
              "      padding: 0 0 0 0;\n",
              "      width: 32px;\n",
              "    }\n",
              "\n",
              "    .colab-df-convert:hover {\n",
              "      background-color: #E2EBFA;\n",
              "      box-shadow: 0px 1px 2px rgba(60, 64, 67, 0.3), 0px 1px 3px 1px rgba(60, 64, 67, 0.15);\n",
              "      fill: #174EA6;\n",
              "    }\n",
              "\n",
              "    [theme=dark] .colab-df-convert {\n",
              "      background-color: #3B4455;\n",
              "      fill: #D2E3FC;\n",
              "    }\n",
              "\n",
              "    [theme=dark] .colab-df-convert:hover {\n",
              "      background-color: #434B5C;\n",
              "      box-shadow: 0px 1px 3px 1px rgba(0, 0, 0, 0.15);\n",
              "      filter: drop-shadow(0px 1px 2px rgba(0, 0, 0, 0.3));\n",
              "      fill: #FFFFFF;\n",
              "    }\n",
              "  </style>\n",
              "\n",
              "      <script>\n",
              "        const buttonEl =\n",
              "          document.querySelector('#df-91459691-01ee-488c-935b-7766879b0624 button.colab-df-convert');\n",
              "        buttonEl.style.display =\n",
              "          google.colab.kernel.accessAllowed ? 'block' : 'none';\n",
              "\n",
              "        async function convertToInteractive(key) {\n",
              "          const element = document.querySelector('#df-91459691-01ee-488c-935b-7766879b0624');\n",
              "          const dataTable =\n",
              "            await google.colab.kernel.invokeFunction('convertToInteractive',\n",
              "                                                     [key], {});\n",
              "          if (!dataTable) return;\n",
              "\n",
              "          const docLinkHtml = 'Like what you see? Visit the ' +\n",
              "            '<a target=\"_blank\" href=https://colab.research.google.com/notebooks/data_table.ipynb>data table notebook</a>'\n",
              "            + ' to learn more about interactive tables.';\n",
              "          element.innerHTML = '';\n",
              "          dataTable['output_type'] = 'display_data';\n",
              "          await google.colab.output.renderOutput(dataTable, element);\n",
              "          const docLink = document.createElement('div');\n",
              "          docLink.innerHTML = docLinkHtml;\n",
              "          element.appendChild(docLink);\n",
              "        }\n",
              "      </script>\n",
              "    </div>\n",
              "  </div>\n",
              "  "
            ]
          },
          "metadata": {},
          "execution_count": 9
        }
      ]
    },
    {
      "cell_type": "code",
      "source": [
        "\n",
        "y=x[\"weather\"]\n",
        "x=x.drop([\"weather\"],axis=1)"
      ],
      "metadata": {
        "id": "f07HWu9bE66F"
      },
      "execution_count": null,
      "outputs": []
    },
    {
      "cell_type": "code",
      "source": [
        "from sklearn.model_selection import train_test_split\n",
        "x_train,x_test,y_train,y_test=train_test_split(x,y,test_size=0.3,random_state=100)"
      ],
      "metadata": {
        "id": "v8hlV4NNFI-7"
      },
      "execution_count": null,
      "outputs": []
    },
    {
      "cell_type": "code",
      "source": [
        "from sklearn.tree import DecisionTreeClassifier\n",
        "dtree=DecisionTreeClassifier()\n",
        "dtree.fit(x_train,y_train)"
      ],
      "metadata": {
        "colab": {
          "base_uri": "https://localhost:8080/"
        },
        "id": "TrEN8B06FllH",
        "outputId": "46cd96ff-744b-4ee4-e0e0-7ce9d1607dd2"
      },
      "execution_count": null,
      "outputs": [
        {
          "output_type": "execute_result",
          "data": {
            "text/plain": [
              "DecisionTreeClassifier()"
            ]
          },
          "metadata": {},
          "execution_count": 12
        }
      ]
    },
    {
      "cell_type": "code",
      "source": [
        "from sklearn.svm import SVC\n",
        "model=SVC()\n",
        "model.fit(x_train,y_train)"
      ],
      "metadata": {
        "colab": {
          "base_uri": "https://localhost:8080/"
        },
        "id": "vjHvbIvuGHhV",
        "outputId": "d3ed67cf-8e60-4412-e4b3-d088371f2d38"
      },
      "execution_count": null,
      "outputs": [
        {
          "output_type": "execute_result",
          "data": {
            "text/plain": [
              "SVC()"
            ]
          },
          "metadata": {},
          "execution_count": 13
        }
      ]
    },
    {
      "cell_type": "code",
      "source": [
        "from sklearn.ensemble import RandomForestClassifier\n",
        "rf=RandomForestClassifier(n_estimators=100)\n",
        "rf.fit(x_train,y_train)"
      ],
      "metadata": {
        "colab": {
          "base_uri": "https://localhost:8080/"
        },
        "id": "now4vmnAGZug",
        "outputId": "87b4f7d3-8f4e-46da-f65f-214b1ac97835"
      },
      "execution_count": null,
      "outputs": [
        {
          "output_type": "execute_result",
          "data": {
            "text/plain": [
              "RandomForestClassifier()"
            ]
          },
          "metadata": {},
          "execution_count": 14
        }
      ]
    },
    {
      "cell_type": "code",
      "source": [
        "\n",
        "rf_pred=dtree.predict(x_test)\n",
        "rf_pred"
      ],
      "metadata": {
        "colab": {
          "base_uri": "https://localhost:8080/"
        },
        "id": "jRX4ajvbG5T4",
        "outputId": "62822932-3075-45a4-d44f-179f1be8cf16"
      },
      "execution_count": null,
      "outputs": [
        {
          "output_type": "execute_result",
          "data": {
            "text/plain": [
              "array([2, 4, 2, 4, 2, 2, 0, 4, 4, 2, 1, 4, 4, 4, 2, 2, 2, 2, 1, 4, 4, 4,\n",
              "       4, 2, 2, 2, 4, 2, 1, 4, 2, 4, 2, 4, 2, 4, 4, 4, 2, 2, 2, 4, 1, 2,\n",
              "       2, 4, 2, 4, 4, 2, 2, 1, 1, 2, 4, 2, 2, 2, 4, 2, 2, 4, 2, 2, 2, 4,\n",
              "       4, 4, 4, 1, 2, 4, 2, 4, 2, 2, 0, 4, 2, 2, 2, 2, 4, 4, 3, 4, 2, 4,\n",
              "       4, 4, 2, 2, 2, 4, 4, 2, 4, 4, 4, 2, 2, 2, 2, 1, 2, 1, 4, 2, 2, 4,\n",
              "       2, 2, 4, 2, 3, 4, 0, 4, 2, 4, 4, 4, 2, 3, 4, 4, 0, 1, 4, 2, 4, 2,\n",
              "       2, 2, 2, 4, 4, 4, 0, 4, 2, 4, 4, 2, 3, 2, 4, 2, 2, 2, 1, 4, 2, 4,\n",
              "       2, 4, 0, 4, 4, 4, 2, 2, 2, 4, 2, 1, 1, 1, 4, 2, 2, 4, 2, 2, 2, 2,\n",
              "       4, 2, 4, 2, 4, 0, 2, 3, 2, 2, 2, 2, 2, 0, 1, 1, 0, 2, 2, 1, 2, 2,\n",
              "       2, 1, 3, 2, 2, 2, 4, 2, 2, 2, 0, 2, 2, 2, 2, 4, 2, 4, 2, 4, 4, 4,\n",
              "       2, 2, 4, 4, 2, 4, 2, 4, 4, 2, 2, 4, 4, 4, 1, 1, 4, 2, 1, 2, 2, 1,\n",
              "       2, 1, 0, 4, 1, 1, 2, 4, 1, 4, 4, 2, 1, 2, 1, 2, 4, 4, 2, 2, 2, 4,\n",
              "       4, 2, 4, 2, 2, 2, 4, 1, 2, 2, 2, 4, 4, 2, 1, 2, 4, 4, 4, 2, 1, 4,\n",
              "       2, 0, 2, 4, 4, 4, 4, 4, 2, 1, 1, 2, 4, 4, 4, 1, 4, 2, 1, 2, 2, 4,\n",
              "       2, 4, 1, 2, 2, 2, 2, 2, 2, 0, 4, 2, 4, 2, 4, 4, 2, 4, 2, 4, 1, 2,\n",
              "       3, 2, 4, 2, 2, 0, 4, 2, 2, 1, 2, 2, 2, 2, 4, 2, 1, 4, 2, 4, 2, 4,\n",
              "       4, 2, 2, 2, 4, 2, 4, 2, 4, 1, 1, 1, 1, 2, 4, 3, 4, 4, 2, 2, 2, 4,\n",
              "       2, 4, 1, 2, 2, 4, 4, 4, 4, 2, 2, 4, 4, 2, 2, 4, 4, 2, 2, 1, 4, 0,\n",
              "       2, 2, 1, 4, 2, 4, 2, 4, 4, 2, 2, 2, 2, 4, 2, 4, 4, 4, 2, 0, 3, 4,\n",
              "       2, 2, 2, 2, 2, 1, 0, 2, 2, 0, 4, 0, 4, 4, 1, 2, 4, 2, 4, 1, 4])"
            ]
          },
          "metadata": {},
          "execution_count": 15
        }
      ]
    },
    {
      "cell_type": "code",
      "source": [
        "y_pred=model.predict(x_test)\n",
        "y_pred"
      ],
      "metadata": {
        "colab": {
          "base_uri": "https://localhost:8080/"
        },
        "id": "I4K5YSbmG9K7",
        "outputId": "af4531fd-fa15-4086-c5a6-344dca921a4f"
      },
      "execution_count": null,
      "outputs": [
        {
          "output_type": "execute_result",
          "data": {
            "text/plain": [
              "array([2, 4, 2, 4, 2, 4, 4, 4, 4, 2, 4, 4, 4, 4, 2, 2, 2, 2, 4, 4, 4, 4,\n",
              "       4, 4, 2, 2, 4, 4, 4, 4, 4, 4, 4, 4, 2, 2, 4, 4, 2, 2, 2, 4, 4, 2,\n",
              "       2, 4, 2, 4, 4, 2, 2, 4, 4, 2, 4, 2, 2, 2, 4, 4, 2, 4, 2, 2, 4, 4,\n",
              "       4, 4, 4, 4, 4, 4, 2, 4, 2, 2, 4, 4, 2, 4, 2, 2, 4, 4, 2, 4, 2, 4,\n",
              "       4, 4, 2, 4, 2, 4, 4, 2, 4, 4, 4, 2, 2, 4, 4, 4, 2, 4, 4, 2, 2, 4,\n",
              "       2, 2, 4, 2, 2, 4, 4, 4, 4, 4, 4, 4, 2, 2, 4, 4, 4, 4, 4, 4, 4, 2,\n",
              "       2, 2, 2, 4, 4, 4, 4, 4, 2, 4, 4, 4, 2, 2, 4, 2, 2, 2, 4, 4, 4, 4,\n",
              "       2, 4, 4, 4, 4, 4, 4, 2, 2, 4, 2, 4, 4, 4, 4, 2, 2, 4, 2, 2, 2, 4,\n",
              "       4, 2, 4, 4, 4, 4, 2, 2, 4, 4, 2, 4, 2, 4, 4, 4, 4, 2, 2, 4, 2, 2,\n",
              "       2, 4, 2, 2, 2, 2, 4, 4, 2, 4, 4, 2, 4, 2, 4, 4, 2, 4, 4, 4, 4, 4,\n",
              "       2, 2, 4, 4, 4, 4, 4, 4, 4, 4, 2, 4, 4, 4, 4, 4, 4, 2, 4, 4, 4, 4,\n",
              "       2, 4, 4, 4, 4, 4, 2, 4, 4, 4, 4, 2, 4, 2, 4, 2, 4, 4, 2, 2, 2, 4,\n",
              "       4, 4, 4, 2, 2, 2, 4, 4, 2, 4, 2, 4, 4, 2, 4, 2, 4, 4, 4, 4, 4, 4,\n",
              "       2, 4, 2, 4, 4, 4, 4, 4, 2, 4, 4, 2, 4, 4, 4, 4, 4, 4, 4, 2, 2, 4,\n",
              "       2, 4, 4, 2, 2, 4, 2, 2, 2, 4, 4, 4, 4, 2, 4, 4, 4, 4, 2, 4, 4, 2,\n",
              "       4, 2, 4, 2, 2, 4, 4, 2, 2, 4, 2, 4, 2, 4, 4, 2, 4, 4, 2, 4, 2, 4,\n",
              "       4, 2, 2, 2, 4, 2, 4, 2, 4, 4, 4, 4, 4, 2, 4, 2, 4, 4, 2, 2, 2, 4,\n",
              "       4, 4, 4, 4, 2, 4, 4, 4, 4, 2, 2, 4, 4, 4, 2, 4, 4, 2, 4, 4, 4, 4,\n",
              "       4, 4, 4, 4, 2, 4, 4, 4, 4, 4, 2, 2, 2, 4, 2, 4, 4, 4, 2, 4, 2, 2,\n",
              "       2, 2, 2, 4, 2, 4, 4, 2, 2, 4, 4, 4, 4, 4, 4, 4, 4, 2, 4, 4, 4])"
            ]
          },
          "metadata": {},
          "execution_count": 16
        }
      ]
    },
    {
      "cell_type": "code",
      "source": [
        "rf_pred=rf.predict(x_test)\n",
        "rf_pred"
      ],
      "metadata": {
        "colab": {
          "base_uri": "https://localhost:8080/"
        },
        "id": "thZYDxmyHSox",
        "outputId": "a52fd737-46a7-401e-96ae-f51652a6eb28"
      },
      "execution_count": null,
      "outputs": [
        {
          "output_type": "execute_result",
          "data": {
            "text/plain": [
              "array([2, 4, 2, 4, 2, 2, 4, 4, 4, 2, 4, 4, 4, 4, 2, 2, 2, 2, 4, 4, 4, 4,\n",
              "       4, 2, 2, 2, 4, 2, 4, 4, 2, 4, 2, 4, 2, 4, 4, 4, 2, 2, 2, 4, 4, 2,\n",
              "       2, 4, 2, 4, 4, 2, 2, 4, 4, 2, 4, 2, 2, 2, 4, 2, 2, 4, 2, 2, 2, 4,\n",
              "       4, 4, 4, 1, 2, 4, 2, 4, 2, 2, 4, 4, 2, 2, 2, 2, 1, 4, 3, 4, 2, 4,\n",
              "       4, 4, 2, 2, 2, 4, 4, 2, 4, 4, 4, 2, 2, 4, 2, 4, 2, 4, 4, 2, 2, 1,\n",
              "       2, 2, 4, 2, 3, 4, 4, 4, 4, 4, 4, 4, 2, 2, 4, 4, 4, 4, 4, 4, 4, 2,\n",
              "       2, 2, 2, 4, 1, 4, 4, 4, 2, 4, 4, 2, 2, 2, 4, 2, 2, 2, 1, 4, 4, 4,\n",
              "       2, 4, 0, 4, 4, 4, 2, 2, 2, 4, 2, 4, 4, 1, 0, 2, 2, 4, 2, 2, 2, 2,\n",
              "       4, 2, 4, 2, 4, 4, 2, 3, 2, 4, 2, 4, 2, 4, 4, 4, 4, 2, 2, 4, 2, 2,\n",
              "       2, 1, 2, 2, 2, 2, 4, 4, 2, 2, 4, 2, 2, 2, 4, 4, 2, 4, 4, 4, 4, 4,\n",
              "       4, 2, 4, 4, 2, 4, 4, 4, 4, 2, 2, 4, 4, 4, 1, 4, 4, 2, 1, 4, 2, 4,\n",
              "       2, 1, 4, 4, 4, 4, 2, 4, 1, 4, 4, 2, 4, 2, 4, 2, 4, 4, 2, 2, 2, 4,\n",
              "       4, 1, 4, 2, 2, 2, 4, 1, 2, 4, 2, 4, 4, 2, 1, 2, 4, 4, 4, 2, 1, 4,\n",
              "       2, 4, 2, 4, 4, 4, 4, 1, 2, 4, 4, 3, 4, 4, 4, 4, 4, 2, 4, 2, 2, 4,\n",
              "       2, 4, 4, 2, 2, 2, 2, 2, 2, 0, 4, 2, 4, 2, 4, 4, 2, 4, 2, 4, 4, 2,\n",
              "       2, 2, 4, 2, 3, 4, 4, 2, 2, 4, 2, 4, 2, 4, 4, 2, 4, 4, 2, 4, 2, 4,\n",
              "       4, 2, 2, 2, 4, 2, 4, 2, 4, 4, 1, 4, 1, 2, 4, 2, 4, 4, 2, 2, 2, 4,\n",
              "       2, 4, 4, 2, 2, 4, 4, 4, 4, 2, 2, 4, 4, 4, 2, 4, 4, 2, 4, 4, 4, 0,\n",
              "       2, 2, 4, 4, 2, 4, 2, 4, 4, 2, 2, 2, 2, 4, 2, 4, 4, 4, 2, 0, 3, 4,\n",
              "       2, 2, 2, 2, 2, 4, 4, 2, 2, 4, 4, 0, 4, 4, 1, 2, 4, 2, 4, 1, 4])"
            ]
          },
          "metadata": {},
          "execution_count": 17
        }
      ]
    },
    {
      "cell_type": "code",
      "source": [
        "a=int(input(\"precipitation\"))\n",
        "b=int(input(\"temp_max\"))\n",
        "c=int(input(\"temp_min\"))\n",
        "d=int(input(\"wind\"))\n",
        "\n",
        "a=pd.DataFrame({\"precipitation\":[a],\n",
        "                \"temp_max\":[b],\n",
        "                \"temp_min\":[c],\n",
        "                \"wind\":[d]})\n",
        "                "
      ],
      "metadata": {
        "colab": {
          "base_uri": "https://localhost:8080/"
        },
        "id": "dIJQQtIxHfQX",
        "outputId": "32db3475-4a76-4973-ff91-b592fa0bf23e"
      },
      "execution_count": null,
      "outputs": [
        {
          "name": "stdout",
          "output_type": "stream",
          "text": [
            "precipitation0\n",
            "temp_max13\n",
            "temp_min1\n",
            "wind3\n"
          ]
        }
      ]
    },
    {
      "cell_type": "code",
      "source": [
        "a\n"
      ],
      "metadata": {
        "colab": {
          "base_uri": "https://localhost:8080/",
          "height": 81
        },
        "id": "oi51g76aIDPR",
        "outputId": "c2080430-1905-4177-aa41-3d289693a1bf"
      },
      "execution_count": null,
      "outputs": [
        {
          "output_type": "execute_result",
          "data": {
            "text/plain": [
              "   precipitation  temp_max  temp_min  wind\n",
              "0              0        13         1     3"
            ],
            "text/html": [
              "\n",
              "  <div id=\"df-5bffe972-cce4-4b00-ad92-f0cc356068aa\">\n",
              "    <div class=\"colab-df-container\">\n",
              "      <div>\n",
              "<style scoped>\n",
              "    .dataframe tbody tr th:only-of-type {\n",
              "        vertical-align: middle;\n",
              "    }\n",
              "\n",
              "    .dataframe tbody tr th {\n",
              "        vertical-align: top;\n",
              "    }\n",
              "\n",
              "    .dataframe thead th {\n",
              "        text-align: right;\n",
              "    }\n",
              "</style>\n",
              "<table border=\"1\" class=\"dataframe\">\n",
              "  <thead>\n",
              "    <tr style=\"text-align: right;\">\n",
              "      <th></th>\n",
              "      <th>precipitation</th>\n",
              "      <th>temp_max</th>\n",
              "      <th>temp_min</th>\n",
              "      <th>wind</th>\n",
              "    </tr>\n",
              "  </thead>\n",
              "  <tbody>\n",
              "    <tr>\n",
              "      <th>0</th>\n",
              "      <td>0</td>\n",
              "      <td>13</td>\n",
              "      <td>1</td>\n",
              "      <td>3</td>\n",
              "    </tr>\n",
              "  </tbody>\n",
              "</table>\n",
              "</div>\n",
              "      <button class=\"colab-df-convert\" onclick=\"convertToInteractive('df-5bffe972-cce4-4b00-ad92-f0cc356068aa')\"\n",
              "              title=\"Convert this dataframe to an interactive table.\"\n",
              "              style=\"display:none;\">\n",
              "        \n",
              "  <svg xmlns=\"http://www.w3.org/2000/svg\" height=\"24px\"viewBox=\"0 0 24 24\"\n",
              "       width=\"24px\">\n",
              "    <path d=\"M0 0h24v24H0V0z\" fill=\"none\"/>\n",
              "    <path d=\"M18.56 5.44l.94 2.06.94-2.06 2.06-.94-2.06-.94-.94-2.06-.94 2.06-2.06.94zm-11 1L8.5 8.5l.94-2.06 2.06-.94-2.06-.94L8.5 2.5l-.94 2.06-2.06.94zm10 10l.94 2.06.94-2.06 2.06-.94-2.06-.94-.94-2.06-.94 2.06-2.06.94z\"/><path d=\"M17.41 7.96l-1.37-1.37c-.4-.4-.92-.59-1.43-.59-.52 0-1.04.2-1.43.59L10.3 9.45l-7.72 7.72c-.78.78-.78 2.05 0 2.83L4 21.41c.39.39.9.59 1.41.59.51 0 1.02-.2 1.41-.59l7.78-7.78 2.81-2.81c.8-.78.8-2.07 0-2.86zM5.41 20L4 18.59l7.72-7.72 1.47 1.35L5.41 20z\"/>\n",
              "  </svg>\n",
              "      </button>\n",
              "      \n",
              "  <style>\n",
              "    .colab-df-container {\n",
              "      display:flex;\n",
              "      flex-wrap:wrap;\n",
              "      gap: 12px;\n",
              "    }\n",
              "\n",
              "    .colab-df-convert {\n",
              "      background-color: #E8F0FE;\n",
              "      border: none;\n",
              "      border-radius: 50%;\n",
              "      cursor: pointer;\n",
              "      display: none;\n",
              "      fill: #1967D2;\n",
              "      height: 32px;\n",
              "      padding: 0 0 0 0;\n",
              "      width: 32px;\n",
              "    }\n",
              "\n",
              "    .colab-df-convert:hover {\n",
              "      background-color: #E2EBFA;\n",
              "      box-shadow: 0px 1px 2px rgba(60, 64, 67, 0.3), 0px 1px 3px 1px rgba(60, 64, 67, 0.15);\n",
              "      fill: #174EA6;\n",
              "    }\n",
              "\n",
              "    [theme=dark] .colab-df-convert {\n",
              "      background-color: #3B4455;\n",
              "      fill: #D2E3FC;\n",
              "    }\n",
              "\n",
              "    [theme=dark] .colab-df-convert:hover {\n",
              "      background-color: #434B5C;\n",
              "      box-shadow: 0px 1px 3px 1px rgba(0, 0, 0, 0.15);\n",
              "      filter: drop-shadow(0px 1px 2px rgba(0, 0, 0, 0.3));\n",
              "      fill: #FFFFFF;\n",
              "    }\n",
              "  </style>\n",
              "\n",
              "      <script>\n",
              "        const buttonEl =\n",
              "          document.querySelector('#df-5bffe972-cce4-4b00-ad92-f0cc356068aa button.colab-df-convert');\n",
              "        buttonEl.style.display =\n",
              "          google.colab.kernel.accessAllowed ? 'block' : 'none';\n",
              "\n",
              "        async function convertToInteractive(key) {\n",
              "          const element = document.querySelector('#df-5bffe972-cce4-4b00-ad92-f0cc356068aa');\n",
              "          const dataTable =\n",
              "            await google.colab.kernel.invokeFunction('convertToInteractive',\n",
              "                                                     [key], {});\n",
              "          if (!dataTable) return;\n",
              "\n",
              "          const docLinkHtml = 'Like what you see? Visit the ' +\n",
              "            '<a target=\"_blank\" href=https://colab.research.google.com/notebooks/data_table.ipynb>data table notebook</a>'\n",
              "            + ' to learn more about interactive tables.';\n",
              "          element.innerHTML = '';\n",
              "          dataTable['output_type'] = 'display_data';\n",
              "          await google.colab.output.renderOutput(dataTable, element);\n",
              "          const docLink = document.createElement('div');\n",
              "          docLink.innerHTML = docLinkHtml;\n",
              "          element.appendChild(docLink);\n",
              "        }\n",
              "      </script>\n",
              "    </div>\n",
              "  </div>\n",
              "  "
            ]
          },
          "metadata": {},
          "execution_count": 19
        }
      ]
    },
    {
      "cell_type": "code",
      "source": [
        "y_pred=rf.predict(a)\n",
        "y_pred"
      ],
      "metadata": {
        "colab": {
          "base_uri": "https://localhost:8080/"
        },
        "id": "X9QuceFPIIZD",
        "outputId": "f22beeb1-99a5-43bf-c2f8-462d1b196c6c"
      },
      "execution_count": null,
      "outputs": [
        {
          "output_type": "execute_result",
          "data": {
            "text/plain": [
              "array([4])"
            ]
          },
          "metadata": {},
          "execution_count": 20
        }
      ]
    },
    {
      "cell_type": "code",
      "source": [
        "y_pred=dtree.predict(a)\n",
        "y_pred"
      ],
      "metadata": {
        "colab": {
          "base_uri": "https://localhost:8080/"
        },
        "id": "6EHay_dQIOPP",
        "outputId": "75758785-4487-474d-8f07-2ed882d29432"
      },
      "execution_count": null,
      "outputs": [
        {
          "output_type": "execute_result",
          "data": {
            "text/plain": [
              "array([4])"
            ]
          },
          "metadata": {},
          "execution_count": 21
        }
      ]
    },
    {
      "cell_type": "code",
      "source": [],
      "metadata": {
        "id": "7fbe7MzXIURP"
      },
      "execution_count": null,
      "outputs": []
    },
    {
      "cell_type": "code",
      "source": [
        "y_pred=model.predict(a)\n",
        "y_pred"
      ],
      "metadata": {
        "colab": {
          "base_uri": "https://localhost:8080/"
        },
        "outputId": "30880314-d3f4-4323-e6f0-81c27a78f9c4",
        "id": "dkQTA1OWIYXY"
      },
      "execution_count": null,
      "outputs": [
        {
          "output_type": "execute_result",
          "data": {
            "text/plain": [
              "array([4])"
            ]
          },
          "metadata": {},
          "execution_count": 22
        }
      ]
    },
    {
      "cell_type": "code",
      "source": [
        "from sklearn.neighbors import KNeighborsClassifier\n",
        "knn=KNeighborsClassifier(n_neighbors=10)\n",
        "knn.fit(x_train,y_train)"
      ],
      "metadata": {
        "id": "1VbjtN2SIZvE",
        "colab": {
          "base_uri": "https://localhost:8080/"
        },
        "outputId": "a265c772-bca2-4339-8466-95a5bbd65893"
      },
      "execution_count": null,
      "outputs": [
        {
          "output_type": "execute_result",
          "data": {
            "text/plain": [
              "KNeighborsClassifier(n_neighbors=10)"
            ]
          },
          "metadata": {},
          "execution_count": 23
        }
      ]
    },
    {
      "cell_type": "code",
      "source": [
        "y_pred=knn.predict(x_test)\n",
        "y_pred"
      ],
      "metadata": {
        "colab": {
          "base_uri": "https://localhost:8080/"
        },
        "id": "BomV3iof6DfJ",
        "outputId": "c37abcc6-297a-4d6d-c045-25e9e52f186f"
      },
      "execution_count": null,
      "outputs": [
        {
          "output_type": "execute_result",
          "data": {
            "text/plain": [
              "array([2, 4, 2, 4, 2, 4, 4, 4, 4, 2, 4, 4, 4, 4, 2, 2, 2, 2, 4, 4, 4, 4,\n",
              "       4, 4, 2, 2, 4, 4, 4, 4, 4, 4, 4, 4, 2, 2, 4, 4, 2, 2, 2, 4, 4, 2,\n",
              "       2, 4, 2, 4, 4, 2, 2, 4, 4, 2, 4, 2, 2, 2, 4, 4, 2, 4, 2, 2, 4, 4,\n",
              "       4, 4, 4, 4, 2, 4, 2, 4, 2, 2, 4, 4, 2, 4, 2, 2, 4, 4, 2, 4, 2, 4,\n",
              "       4, 4, 2, 4, 2, 4, 4, 2, 4, 4, 4, 1, 2, 4, 4, 4, 2, 4, 4, 2, 2, 4,\n",
              "       2, 2, 4, 2, 2, 4, 4, 4, 2, 4, 4, 4, 2, 2, 4, 4, 4, 4, 4, 4, 4, 2,\n",
              "       2, 2, 2, 4, 4, 4, 4, 4, 2, 4, 4, 4, 2, 2, 4, 2, 2, 2, 4, 4, 4, 4,\n",
              "       2, 4, 0, 4, 4, 4, 4, 2, 2, 4, 2, 2, 2, 4, 4, 2, 2, 4, 2, 2, 2, 2,\n",
              "       4, 2, 4, 2, 4, 4, 1, 2, 4, 4, 2, 2, 2, 4, 4, 4, 4, 2, 2, 4, 2, 2,\n",
              "       4, 1, 2, 2, 2, 2, 4, 4, 2, 2, 4, 2, 4, 2, 4, 4, 2, 4, 4, 4, 2, 4,\n",
              "       2, 2, 4, 4, 4, 4, 4, 4, 4, 4, 2, 4, 4, 4, 4, 4, 4, 2, 4, 4, 4, 4,\n",
              "       2, 4, 4, 4, 4, 4, 4, 4, 4, 4, 2, 4, 4, 2, 4, 2, 1, 4, 2, 2, 2, 4,\n",
              "       4, 2, 4, 2, 2, 2, 4, 4, 2, 4, 2, 4, 1, 2, 4, 2, 4, 2, 4, 4, 4, 0,\n",
              "       2, 4, 2, 4, 4, 4, 4, 4, 2, 4, 4, 2, 4, 4, 4, 4, 4, 4, 4, 2, 2, 4,\n",
              "       4, 4, 4, 2, 2, 4, 2, 2, 2, 4, 4, 4, 4, 2, 4, 4, 2, 4, 2, 4, 4, 2,\n",
              "       4, 2, 4, 2, 2, 4, 4, 2, 2, 4, 2, 2, 2, 4, 4, 2, 4, 4, 2, 4, 2, 2,\n",
              "       4, 4, 2, 2, 2, 2, 4, 2, 4, 4, 4, 4, 4, 2, 4, 2, 4, 4, 2, 2, 2, 2,\n",
              "       4, 4, 4, 4, 2, 4, 4, 2, 4, 2, 2, 4, 4, 4, 2, 4, 2, 2, 4, 2, 4, 4,\n",
              "       2, 4, 4, 4, 2, 4, 2, 4, 4, 4, 2, 2, 2, 4, 2, 4, 4, 4, 2, 4, 2, 2,\n",
              "       2, 2, 2, 4, 2, 4, 4, 2, 2, 4, 4, 4, 4, 4, 2, 2, 4, 2, 4, 4, 2])"
            ]
          },
          "metadata": {},
          "execution_count": 24
        }
      ]
    },
    {
      "cell_type": "code",
      "source": [
        "y_pred=knn.predict(a)\n",
        "y_pred"
      ],
      "metadata": {
        "colab": {
          "base_uri": "https://localhost:8080/"
        },
        "id": "LT7VxnUZ6mBS",
        "outputId": "1993f51e-7cea-4911-d342-77d393e4fadb"
      },
      "execution_count": null,
      "outputs": [
        {
          "output_type": "execute_result",
          "data": {
            "text/plain": [
              "array([4])"
            ]
          },
          "metadata": {},
          "execution_count": 25
        }
      ]
    },
    {
      "cell_type": "code",
      "source": [],
      "metadata": {
        "id": "Jpe0Sly36vAb"
      },
      "execution_count": null,
      "outputs": []
    }
  ]
}