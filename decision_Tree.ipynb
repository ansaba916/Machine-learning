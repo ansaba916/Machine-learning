{
  "nbformat": 4,
  "nbformat_minor": 0,
  "metadata": {
    "colab": {
      "provenance": []
    },
    "kernelspec": {
      "name": "python3",
      "display_name": "Python 3"
    },
    "language_info": {
      "name": "python"
    }
  },
  "cells": [
    {
      "cell_type": "code",
      "execution_count": null,
      "metadata": {
        "id": "KBBukSpBiqUe"
      },
      "outputs": [],
      "source": [
        "import numpy as np\n",
        "import pandas as pd\n",
        "import matplotlib.pyplot as plt\n",
        "import seaborn as sns "
      ]
    },
    {
      "cell_type": "code",
      "source": [
        "kyphosis=pd.read_csv(\"/content/drive/MyDrive/kyphosis.csv\")\n",
        "kyphosis"
      ],
      "metadata": {
        "id": "51HA4kzui-JM"
      },
      "execution_count": null,
      "outputs": []
    },
    {
      "cell_type": "code",
      "source": [],
      "metadata": {
        "id": "Bn0URbqxkCEP"
      },
      "execution_count": null,
      "outputs": []
    },
    {
      "cell_type": "code",
      "source": [
        "#extracting the independednt variabales\n",
        "x=kyphosis.drop(\"Kyphosis\",axis=1)\n",
        "\n",
        "#extracting the dependednt variable\n",
        "y=kyphosis[\"Kyphosis\"]"
      ],
      "metadata": {
        "id": "S9VNYeirjegZ"
      },
      "execution_count": null,
      "outputs": []
    },
    {
      "cell_type": "code",
      "source": [
        "# data analysis\n",
        "sns.barplot(x=\"Kyphosis\",y=\"Age\",data=kyphosis)"
      ],
      "metadata": {
        "id": "uok8G21ljvRg"
      },
      "execution_count": null,
      "outputs": []
    },
    {
      "cell_type": "code",
      "source": [
        "#visualizing data set\n",
        "plt.figure(figsize=(25,7))\n",
        "sns.countplot(x=\"Age\",hue=\"Kyphosis\",data=kyphosis,palette=\"Set1\")"
      ],
      "metadata": {
        "id": "A8xp7qGMlYUN"
      },
      "execution_count": null,
      "outputs": []
    },
    {
      "cell_type": "code",
      "source": [
        "#split the dataset\n",
        "from sklearn.model_selection import train_test_split\n",
        "x_train,x_test,y_train,y_test=train_test_split(x,y,test_size=0.3,random_state=100)"
      ],
      "metadata": {
        "id": "VMlFYNsVlijM"
      },
      "execution_count": null,
      "outputs": []
    },
    {
      "cell_type": "code",
      "source": [
        "#extracting the independent variables\n",
        "x=kyphosis.drop(\"Kyphosis\",axis=1)\n",
        "\n",
        "#extracting the dependent variables\n",
        "y=kyphosis[\"Kyphosis\"]"
      ],
      "metadata": {
        "id": "j7swvq2VslbG"
      },
      "execution_count": null,
      "outputs": []
    },
    {
      "cell_type": "code",
      "source": [
        "x.head()"
      ],
      "metadata": {
        "id": "EPtT9d83s5Tu"
      },
      "execution_count": null,
      "outputs": []
    },
    {
      "cell_type": "code",
      "source": [
        "x=kyphosis.iloc[:,[1,2,3]].values"
      ],
      "metadata": {
        "id": "efbV6-6Es7m_"
      },
      "execution_count": null,
      "outputs": []
    },
    {
      "cell_type": "code",
      "source": [
        "x_train,x_test,y_train,y_test=train_test_split(x,y,test_size=0.3,random_state=100)"
      ],
      "metadata": {
        "id": "9MM66D0ytDsW"
      },
      "execution_count": null,
      "outputs": []
    },
    {
      "cell_type": "code",
      "source": [
        "#train a decision tree\n",
        "from sklearn.tree import DecisionTreeClassifier\n",
        "dtree=DecisionTreeClassifier()\n",
        "dtree.fit(x_train,y_train)"
      ],
      "metadata": {
        "id": "7IfyDQTEtYNl"
      },
      "execution_count": null,
      "outputs": []
    },
    {
      "cell_type": "code",
      "source": [
        "#predicting the model\n",
        "predictions=dtree.predict(x_test)\n",
        "predictions"
      ],
      "metadata": {
        "id": "51qISHCJttsD"
      },
      "execution_count": null,
      "outputs": []
    },
    {
      "cell_type": "code",
      "source": [
        "#evaluation the model\n",
        "from sklearn.metrics import classification_report,confusion_matrix\n",
        "print(classification_report(y_test,predictions))"
      ],
      "metadata": {
        "id": "quCug8_6uA-_"
      },
      "execution_count": null,
      "outputs": []
    },
    {
      "cell_type": "code",
      "source": [
        "print(confusion_matrix(y_test,predictions))"
      ],
      "metadata": {
        "id": "7Tu8DxREuYxR"
      },
      "execution_count": null,
      "outputs": []
    },
    {
      "cell_type": "code",
      "source": [
        "#train  a random forest\n",
        "from sklearn.ensemble import RandomForestClassifier\n",
        "rf=RandomForestClassifier(n_estimators=100)\n",
        "rf.fit(x_train,y_train)"
      ],
      "metadata": {
        "id": "kXpmE0_HueOB"
      },
      "execution_count": null,
      "outputs": []
    },
    {
      "cell_type": "code",
      "source": [
        "rf_pred=dtree.predict(x_test)\n",
        "rf_pred"
      ],
      "metadata": {
        "id": "YiCpvUEvvMRA"
      },
      "execution_count": null,
      "outputs": []
    },
    {
      "cell_type": "code",
      "source": [
        "print(confusion_matrix(y_test,rf_pred))"
      ],
      "metadata": {
        "id": "xVpmYU5svZ3B"
      },
      "execution_count": null,
      "outputs": []
    },
    {
      "cell_type": "code",
      "source": [
        "print(classification_report(y_test,rf_pred))"
      ],
      "metadata": {
        "id": "npS_Y0kZvgYn"
      },
      "execution_count": null,
      "outputs": []
    },
    {
      "cell_type": "code",
      "source": [
        "x=int(input(\"Age\"))\n",
        "y=int(input(\"Number\"))\n",
        "z=int(input(\"Start\"))\n",
        "\n",
        "a=pd.DataFrame({\"Age\":[x],\n",
        "                \"Number\":[y],\n",
        "                \"Start\":[z]})\n",
        "                "
      ],
      "metadata": {
        "id": "fnSOoqzXvohY"
      },
      "execution_count": null,
      "outputs": []
    },
    {
      "cell_type": "code",
      "source": [
        "a"
      ],
      "metadata": {
        "id": "N3Fd8s-pzp35"
      },
      "execution_count": null,
      "outputs": []
    },
    {
      "cell_type": "code",
      "source": [
        "y_pred=dtree.predict(a)\n",
        "y_pred"
      ],
      "metadata": {
        "id": "RIPMW2rSzxRK"
      },
      "execution_count": null,
      "outputs": []
    },
    {
      "cell_type": "code",
      "source": [
        "y_pred=rf.predict(a)\n",
        "y_pred"
      ],
      "metadata": {
        "id": "nUed3nZ-z-Ss"
      },
      "execution_count": null,
      "outputs": []
    },
    {
      "cell_type": "code",
      "source": [],
      "metadata": {
        "id": "aypan2In0aeN"
      },
      "execution_count": null,
      "outputs": []
    }
  ]
}